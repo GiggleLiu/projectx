{
 "cells": [
  {
   "cell_type": "code",
   "execution_count": 1,
   "metadata": {
    "collapsed": true
   },
   "outputs": [],
   "source": [
    "import numpy as np\n",
    "import matplotlib.pyplot as plt"
   ]
  },
  {
   "cell_type": "code",
   "execution_count": 2,
   "metadata": {
    "collapsed": true
   },
   "outputs": [],
   "source": [
    "np.loadtxt?"
   ]
  },
  {
   "cell_type": "code",
   "execution_count": 116,
   "metadata": {},
   "outputs": [],
   "source": [
    "data = []\n",
    "# data.append(np.loadtxt('data/rtheta-128-el-10p.dat', dtype='complex')/10)\n",
    "# data.append(np.loadtxt('data/rtheta-128-64-el-10p.dat', dtype='complex')/10)\n",
    "# data.append(np.loadtxt('data/rtheta-128-64-32-el-10p.dat', dtype='complex')/10) # 2nd (0.8/10)\n",
    "data.append(np.loadtxt('data/rtheta-128-64-32-16-el-10p.dat', dtype='complex')/10) # 1st (0.8/10)\n",
    "# data.append(np.loadtxt('data/rtheta-128-64-32-16-8-el-10p.dat', dtype='complex')/10)\n",
    "# data.append(np.loadtxt('data/rtheta-128-64-32-32-16-16-8-el-10p.dat', dtype='complex')/10)\n",
    "# data.append(np.loadtxt('data/rtheta-128-64-32-32-16-8-el-10p.dat', dtype='complex')/10)\n",
    "# data.append(np.loadtxt('data/rtheta-128-32-64-el-10p.dat', dtype='complex')/10)\n",
    "# data.append(np.loadtxt('data/rtheta-128-32-16-32-el-10p.dat', dtype='complex')/10)\n",
    "#data.append(np.loadtxt('data/rtheta-128-64-32-32-64-el-10p.dat', dtype='complex')/10)"
   ]
  },
  {
   "cell_type": "code",
   "execution_count": 117,
   "metadata": {},
   "outputs": [
    {
     "data": {
      "image/png": "[encoded data removed]",
      "text/plain": [
       "<matplotlib.figure.Figure at 0x7fa398949cd0>"
      ]
     },
     "metadata": {},
     "output_type": "display_data"
    }
   ],
   "source": [
    "r = slice(800,900)\n",
    "for i,d in enumerate(data):\n",
    "    plt.plot(d[r])\n",
    "    \n",
    "plt.legend([i for i in range(len(data))])\n",
    "plt.axhline(-0.433768079327)\n",
    "plt.show()"
   ]
  },
  {
   "cell_type": "code",
   "execution_count": 9,
   "metadata": {
    "collapsed": true
   },
   "outputs": [],
   "source": [
    "np.savetxt?"
   ]
  },
  {
   "cell_type": "code",
   "execution_count": 106,
   "metadata": {},
   "outputs": [
    {
     "data": {
      "text/plain": [
       "11792"
      ]
     },
     "execution_count": 106,
     "metadata": {},
     "output_type": "execute_result"
    }
   ],
   "source": [
    "128*64+64*32+32*16+16*1+128*8"
   ]
  },
  {
   "cell_type": "code",
   "execution_count": null,
   "metadata": {
    "collapsed": true
   },
   "outputs": [],
   "source": []
  }
 ],
 "metadata": {
  "kernelspec": {
   "display_name": "Python 2",
   "language": "python",
   "name": "python2"
  },
  "language_info": {
   "codemirror_mode": {
    "name": "ipython",
    "version": 2
   },
   "file_extension": ".py",
   "mimetype": "text/x-python",
   "name": "python",
   "nbconvert_exporter": "python",
   "pygments_lexer": "ipython2",
   "version": "2.7.13"
  }
 },
 "nbformat": 4,
 "nbformat_minor": 2
}
